{
 "cells": [
  {
   "cell_type": "markdown",
   "id": "665a5669",
   "metadata": {},
   "source": [
    "# Investigating the TMDb Movie Data\n",
    "\n",
    "#### Udacity alx Data Analyst Nanodegree\n",
    "#### Salami Suleiman, August 2022\n"
   ]
  },
  {
   "cell_type": "markdown",
   "id": "916386a0",
   "metadata": {},
   "source": [
    "## Introduction\n",
    "\n",
    "This project investigates the profitability of movies, the relationship between profit, popularity, and movie runtime. This data set contains information about 10,000 movies collected from The Movie Database (TMDb), including user ratings and revenue.\n",
    "\n",
    "The specific questions being investigated here are:\n",
    "* Are movies still profitable?\n",
    "* What are the top 10 profitable movies?\n",
    "* How are profits and average votes related?\n"
   ]
  },
  {
   "cell_type": "markdown",
   "id": "6ad28148",
   "metadata": {},
   "source": [
    "## Data wrangling\n",
    "\n",
    "* In this section, we load the data, present, and observe the data to begin the analysis. "
   ]
  },
  {
   "cell_type": "code",
   "execution_count": 1,
   "id": "b4c8bfcc",
   "metadata": {},
   "outputs": [],
   "source": [
    "# load required libraries\n",
    "\n",
    "import pandas as pd\n",
    "import numpy as np\n",
    "import matplotlib.pyplot as plt\n",
    "%matplotlib inline\n"
   ]
  },
  {
   "cell_type": "code",
   "execution_count": 2,
   "id": "0459407b",
   "metadata": {},
   "outputs": [],
   "source": [
    "# load dataset\n",
    "\n",
    "path = \"https://d17h27t6h515a5.cloudfront.net/topher/2017/October/59dd1c4c_tmdb-movies/tmdb-movies.csv\"\n",
    "df = pd.read_csv(path)"
   ]
  },
  {
   "cell_type": "code",
   "execution_count": 3,
   "id": "eeade833",
   "metadata": {},
   "outputs": [
    {
     "data": {
      "text/html": [
       "<div>\n",
       "<style scoped>\n",
       "    .dataframe tbody tr th:only-of-type {\n",
       "        vertical-align: middle;\n",
       "    }\n",
       "\n",
       "    .dataframe tbody tr th {\n",
       "        vertical-align: top;\n",
       "    }\n",
       "\n",
       "    .dataframe thead th {\n",
       "        text-align: right;\n",
       "    }\n",
       "</style>\n",
       "<table border=\"1\" class=\"dataframe\">\n",
       "  <thead>\n",
       "    <tr style=\"text-align: right;\">\n",
       "      <th></th>\n",
       "      <th>id</th>\n",
       "      <th>imdb_id</th>\n",
       "      <th>popularity</th>\n",
       "      <th>budget</th>\n",
       "      <th>revenue</th>\n",
       "      <th>original_title</th>\n",
       "      <th>cast</th>\n",
       "      <th>homepage</th>\n",
       "      <th>director</th>\n",
       "      <th>tagline</th>\n",
       "      <th>...</th>\n",
       "      <th>overview</th>\n",
       "      <th>runtime</th>\n",
       "      <th>genres</th>\n",
       "      <th>production_companies</th>\n",
       "      <th>release_date</th>\n",
       "      <th>vote_count</th>\n",
       "      <th>vote_average</th>\n",
       "      <th>release_year</th>\n",
       "      <th>budget_adj</th>\n",
       "      <th>revenue_adj</th>\n",
       "    </tr>\n",
       "  </thead>\n",
       "  <tbody>\n",
       "    <tr>\n",
       "      <th>0</th>\n",
       "      <td>135397</td>\n",
       "      <td>tt0369610</td>\n",
       "      <td>32.985763</td>\n",
       "      <td>150000000</td>\n",
       "      <td>1513528810</td>\n",
       "      <td>Jurassic World</td>\n",
       "      <td>Chris Pratt|Bryce Dallas Howard|Irrfan Khan|Vi...</td>\n",
       "      <td>http://www.jurassicworld.com/</td>\n",
       "      <td>Colin Trevorrow</td>\n",
       "      <td>The park is open.</td>\n",
       "      <td>...</td>\n",
       "      <td>Twenty-two years after the events of Jurassic ...</td>\n",
       "      <td>124</td>\n",
       "      <td>Action|Adventure|Science Fiction|Thriller</td>\n",
       "      <td>Universal Studios|Amblin Entertainment|Legenda...</td>\n",
       "      <td>6/9/15</td>\n",
       "      <td>5562</td>\n",
       "      <td>6.5</td>\n",
       "      <td>2015</td>\n",
       "      <td>1.379999e+08</td>\n",
       "      <td>1.392446e+09</td>\n",
       "    </tr>\n",
       "    <tr>\n",
       "      <th>1</th>\n",
       "      <td>76341</td>\n",
       "      <td>tt1392190</td>\n",
       "      <td>28.419936</td>\n",
       "      <td>150000000</td>\n",
       "      <td>378436354</td>\n",
       "      <td>Mad Max: Fury Road</td>\n",
       "      <td>Tom Hardy|Charlize Theron|Hugh Keays-Byrne|Nic...</td>\n",
       "      <td>http://www.madmaxmovie.com/</td>\n",
       "      <td>George Miller</td>\n",
       "      <td>What a Lovely Day.</td>\n",
       "      <td>...</td>\n",
       "      <td>An apocalyptic story set in the furthest reach...</td>\n",
       "      <td>120</td>\n",
       "      <td>Action|Adventure|Science Fiction|Thriller</td>\n",
       "      <td>Village Roadshow Pictures|Kennedy Miller Produ...</td>\n",
       "      <td>5/13/15</td>\n",
       "      <td>6185</td>\n",
       "      <td>7.1</td>\n",
       "      <td>2015</td>\n",
       "      <td>1.379999e+08</td>\n",
       "      <td>3.481613e+08</td>\n",
       "    </tr>\n",
       "    <tr>\n",
       "      <th>2</th>\n",
       "      <td>262500</td>\n",
       "      <td>tt2908446</td>\n",
       "      <td>13.112507</td>\n",
       "      <td>110000000</td>\n",
       "      <td>295238201</td>\n",
       "      <td>Insurgent</td>\n",
       "      <td>Shailene Woodley|Theo James|Kate Winslet|Ansel...</td>\n",
       "      <td>http://www.thedivergentseries.movie/#insurgent</td>\n",
       "      <td>Robert Schwentke</td>\n",
       "      <td>One Choice Can Destroy You</td>\n",
       "      <td>...</td>\n",
       "      <td>Beatrice Prior must confront her inner demons ...</td>\n",
       "      <td>119</td>\n",
       "      <td>Adventure|Science Fiction|Thriller</td>\n",
       "      <td>Summit Entertainment|Mandeville Films|Red Wago...</td>\n",
       "      <td>3/18/15</td>\n",
       "      <td>2480</td>\n",
       "      <td>6.3</td>\n",
       "      <td>2015</td>\n",
       "      <td>1.012000e+08</td>\n",
       "      <td>2.716190e+08</td>\n",
       "    </tr>\n",
       "  </tbody>\n",
       "</table>\n",
       "<p>3 rows × 21 columns</p>\n",
       "</div>"
      ],
      "text/plain": [
       "       id    imdb_id  popularity     budget     revenue      original_title  \\\n",
       "0  135397  tt0369610   32.985763  150000000  1513528810      Jurassic World   \n",
       "1   76341  tt1392190   28.419936  150000000   378436354  Mad Max: Fury Road   \n",
       "2  262500  tt2908446   13.112507  110000000   295238201           Insurgent   \n",
       "\n",
       "                                                cast  \\\n",
       "0  Chris Pratt|Bryce Dallas Howard|Irrfan Khan|Vi...   \n",
       "1  Tom Hardy|Charlize Theron|Hugh Keays-Byrne|Nic...   \n",
       "2  Shailene Woodley|Theo James|Kate Winslet|Ansel...   \n",
       "\n",
       "                                         homepage          director  \\\n",
       "0                   http://www.jurassicworld.com/   Colin Trevorrow   \n",
       "1                     http://www.madmaxmovie.com/     George Miller   \n",
       "2  http://www.thedivergentseries.movie/#insurgent  Robert Schwentke   \n",
       "\n",
       "                      tagline  ...  \\\n",
       "0           The park is open.  ...   \n",
       "1          What a Lovely Day.  ...   \n",
       "2  One Choice Can Destroy You  ...   \n",
       "\n",
       "                                            overview runtime  \\\n",
       "0  Twenty-two years after the events of Jurassic ...     124   \n",
       "1  An apocalyptic story set in the furthest reach...     120   \n",
       "2  Beatrice Prior must confront her inner demons ...     119   \n",
       "\n",
       "                                      genres  \\\n",
       "0  Action|Adventure|Science Fiction|Thriller   \n",
       "1  Action|Adventure|Science Fiction|Thriller   \n",
       "2         Adventure|Science Fiction|Thriller   \n",
       "\n",
       "                                production_companies release_date vote_count  \\\n",
       "0  Universal Studios|Amblin Entertainment|Legenda...       6/9/15       5562   \n",
       "1  Village Roadshow Pictures|Kennedy Miller Produ...      5/13/15       6185   \n",
       "2  Summit Entertainment|Mandeville Films|Red Wago...      3/18/15       2480   \n",
       "\n",
       "   vote_average  release_year    budget_adj   revenue_adj  \n",
       "0           6.5          2015  1.379999e+08  1.392446e+09  \n",
       "1           7.1          2015  1.379999e+08  3.481613e+08  \n",
       "2           6.3          2015  1.012000e+08  2.716190e+08  \n",
       "\n",
       "[3 rows x 21 columns]"
      ]
     },
     "execution_count": 3,
     "metadata": {},
     "output_type": "execute_result"
    }
   ],
   "source": [
    "df.head(3)"
   ]
  },
  {
   "cell_type": "markdown",
   "id": "c23faca7",
   "metadata": {},
   "source": [
    "The data appears to have loaded correctly and we can proceed with the next steps.\n",
    "\n",
    "* In this section, we will explore the dataset to  identify its size, features, missing values, duplicate rows and unique values before we commence our analysis."
   ]
  },
  {
   "cell_type": "code",
   "execution_count": 4,
   "id": "bc35310b",
   "metadata": {},
   "outputs": [
    {
     "data": {
      "text/plain": [
       "(10866, 21)"
      ]
     },
     "execution_count": 4,
     "metadata": {},
     "output_type": "execute_result"
    }
   ],
   "source": [
    "df.shape"
   ]
  },
  {
   "cell_type": "code",
   "execution_count": 5,
   "id": "a63753b1",
   "metadata": {},
   "outputs": [
    {
     "data": {
      "text/plain": [
       "['id',\n",
       " 'imdb_id',\n",
       " 'popularity',\n",
       " 'budget',\n",
       " 'revenue',\n",
       " 'original_title',\n",
       " 'cast',\n",
       " 'homepage',\n",
       " 'director',\n",
       " 'tagline',\n",
       " 'keywords',\n",
       " 'overview',\n",
       " 'runtime',\n",
       " 'genres',\n",
       " 'production_companies',\n",
       " 'release_date',\n",
       " 'vote_count',\n",
       " 'vote_average',\n",
       " 'release_year',\n",
       " 'budget_adj',\n",
       " 'revenue_adj']"
      ]
     },
     "execution_count": 5,
     "metadata": {},
     "output_type": "execute_result"
    }
   ],
   "source": [
    "list(df.columns)"
   ]
  },
  {
   "cell_type": "code",
   "execution_count": 188,
   "id": "6ac38f6d",
   "metadata": {},
   "outputs": [
    {
     "name": "stdout",
     "output_type": "stream",
     "text": [
      "<class 'pandas.core.frame.DataFrame'>\n",
      "RangeIndex: 10866 entries, 0 to 10865\n",
      "Data columns (total 21 columns):\n",
      " #   Column                Non-Null Count  Dtype  \n",
      "---  ------                --------------  -----  \n",
      " 0   id                    10866 non-null  int64  \n",
      " 1   imdb_id               10856 non-null  object \n",
      " 2   popularity            10866 non-null  float64\n",
      " 3   budget                10866 non-null  int64  \n",
      " 4   revenue               10866 non-null  int64  \n",
      " 5   original_title        10866 non-null  object \n",
      " 6   cast                  10790 non-null  object \n",
      " 7   homepage              2936 non-null   object \n",
      " 8   director              10822 non-null  object \n",
      " 9   tagline               8042 non-null   object \n",
      " 10  keywords              9373 non-null   object \n",
      " 11  overview              10862 non-null  object \n",
      " 12  runtime               10866 non-null  int64  \n",
      " 13  genres                10843 non-null  object \n",
      " 14  production_companies  9836 non-null   object \n",
      " 15  release_date          10866 non-null  object \n",
      " 16  vote_count            10866 non-null  int64  \n",
      " 17  vote_average          10866 non-null  float64\n",
      " 18  release_year          10866 non-null  int64  \n",
      " 19  budget_adj            10866 non-null  float64\n",
      " 20  revenue_adj           10866 non-null  float64\n",
      "dtypes: float64(4), int64(6), object(11)\n",
      "memory usage: 1.7+ MB\n"
     ]
    }
   ],
   "source": [
    "df.info()"
   ]
  },
  {
   "cell_type": "code",
   "execution_count": 6,
   "id": "ac47f65a",
   "metadata": {},
   "outputs": [
    {
     "data": {
      "text/plain": [
       "id                         0\n",
       "imdb_id                   10\n",
       "popularity                 0\n",
       "budget                     0\n",
       "revenue                    0\n",
       "original_title             0\n",
       "cast                      76\n",
       "homepage                7930\n",
       "director                  44\n",
       "tagline                 2824\n",
       "keywords                1493\n",
       "overview                   4\n",
       "runtime                    0\n",
       "genres                    23\n",
       "production_companies    1030\n",
       "release_date               0\n",
       "vote_count                 0\n",
       "vote_average               0\n",
       "release_year               0\n",
       "budget_adj                 0\n",
       "revenue_adj                0\n",
       "dtype: int64"
      ]
     },
     "execution_count": 6,
     "metadata": {},
     "output_type": "execute_result"
    }
   ],
   "source": [
    "df.isna().sum()"
   ]
  },
  {
   "cell_type": "code",
   "execution_count": 7,
   "id": "988332e8",
   "metadata": {},
   "outputs": [
    {
     "data": {
      "text/plain": [
       "1"
      ]
     },
     "execution_count": 7,
     "metadata": {},
     "output_type": "execute_result"
    }
   ],
   "source": [
    "df.duplicated().sum()"
   ]
  },
  {
   "cell_type": "markdown",
   "id": "c06290eb",
   "metadata": {},
   "source": [
    "* From the initial checks, there are 10866 observations, and 21 features.\n",
    "* The data types appears to be in order.\n",
    "* There are some missing values, but they are not in major features.\n",
    "* The unused features will be dropped.\n",
    "* The missing values in genres will also be droppped.\n",
    "* The duplicate rows will also be dropped."
   ]
  },
  {
   "cell_type": "code",
   "execution_count": 8,
   "id": "2f747497",
   "metadata": {},
   "outputs": [],
   "source": [
    "df.drop(columns = ['imdb_id', 'tagline', 'homepage', 'cast', 'production_companies', 'keywords', 'overview' ], inplace=True)"
   ]
  },
  {
   "cell_type": "code",
   "execution_count": 9,
   "id": "80595479",
   "metadata": {},
   "outputs": [
    {
     "data": {
      "text/plain": [
       "(10865, 14)"
      ]
     },
     "execution_count": 9,
     "metadata": {},
     "output_type": "execute_result"
    }
   ],
   "source": [
    "df.drop_duplicates(inplace=True)\n",
    "df.shape"
   ]
  },
  {
   "cell_type": "code",
   "execution_count": 10,
   "id": "efce7f22",
   "metadata": {},
   "outputs": [
    {
     "data": {
      "text/plain": [
       "(10842, 14)"
      ]
     },
     "execution_count": 10,
     "metadata": {},
     "output_type": "execute_result"
    }
   ],
   "source": [
    "df.dropna(how='any', subset=['genres'], inplace=True)\n",
    "df.shape"
   ]
  },
  {
   "cell_type": "code",
   "execution_count": 11,
   "id": "01a5e47b",
   "metadata": {},
   "outputs": [
    {
     "data": {
      "text/html": [
       "<div>\n",
       "<style scoped>\n",
       "    .dataframe tbody tr th:only-of-type {\n",
       "        vertical-align: middle;\n",
       "    }\n",
       "\n",
       "    .dataframe tbody tr th {\n",
       "        vertical-align: top;\n",
       "    }\n",
       "\n",
       "    .dataframe thead th {\n",
       "        text-align: right;\n",
       "    }\n",
       "</style>\n",
       "<table border=\"1\" class=\"dataframe\">\n",
       "  <thead>\n",
       "    <tr style=\"text-align: right;\">\n",
       "      <th></th>\n",
       "      <th>id</th>\n",
       "      <th>popularity</th>\n",
       "      <th>budget</th>\n",
       "      <th>revenue</th>\n",
       "      <th>runtime</th>\n",
       "      <th>vote_count</th>\n",
       "      <th>vote_average</th>\n",
       "      <th>release_year</th>\n",
       "      <th>budget_adj</th>\n",
       "      <th>revenue_adj</th>\n",
       "    </tr>\n",
       "  </thead>\n",
       "  <tbody>\n",
       "    <tr>\n",
       "      <th>count</th>\n",
       "      <td>10842.000000</td>\n",
       "      <td>10842.000000</td>\n",
       "      <td>1.084200e+04</td>\n",
       "      <td>1.084200e+04</td>\n",
       "      <td>10842.000000</td>\n",
       "      <td>10842.000000</td>\n",
       "      <td>10842.000000</td>\n",
       "      <td>10842.000000</td>\n",
       "      <td>1.084200e+04</td>\n",
       "      <td>1.084200e+04</td>\n",
       "    </tr>\n",
       "    <tr>\n",
       "      <th>mean</th>\n",
       "      <td>65870.675521</td>\n",
       "      <td>0.647461</td>\n",
       "      <td>1.465531e+07</td>\n",
       "      <td>3.991138e+07</td>\n",
       "      <td>102.138443</td>\n",
       "      <td>217.823649</td>\n",
       "      <td>5.974064</td>\n",
       "      <td>2001.314794</td>\n",
       "      <td>1.758712e+07</td>\n",
       "      <td>5.147797e+07</td>\n",
       "    </tr>\n",
       "    <tr>\n",
       "      <th>std</th>\n",
       "      <td>91981.355752</td>\n",
       "      <td>1.001032</td>\n",
       "      <td>3.093971e+07</td>\n",
       "      <td>1.171179e+08</td>\n",
       "      <td>31.294612</td>\n",
       "      <td>576.180993</td>\n",
       "      <td>0.934257</td>\n",
       "      <td>12.813617</td>\n",
       "      <td>3.433437e+07</td>\n",
       "      <td>1.447723e+08</td>\n",
       "    </tr>\n",
       "    <tr>\n",
       "      <th>min</th>\n",
       "      <td>5.000000</td>\n",
       "      <td>0.000065</td>\n",
       "      <td>0.000000e+00</td>\n",
       "      <td>0.000000e+00</td>\n",
       "      <td>0.000000</td>\n",
       "      <td>10.000000</td>\n",
       "      <td>1.500000</td>\n",
       "      <td>1960.000000</td>\n",
       "      <td>0.000000e+00</td>\n",
       "      <td>0.000000e+00</td>\n",
       "    </tr>\n",
       "    <tr>\n",
       "      <th>25%</th>\n",
       "      <td>10589.250000</td>\n",
       "      <td>0.208210</td>\n",
       "      <td>0.000000e+00</td>\n",
       "      <td>0.000000e+00</td>\n",
       "      <td>90.000000</td>\n",
       "      <td>17.000000</td>\n",
       "      <td>5.400000</td>\n",
       "      <td>1995.000000</td>\n",
       "      <td>0.000000e+00</td>\n",
       "      <td>0.000000e+00</td>\n",
       "    </tr>\n",
       "    <tr>\n",
       "      <th>50%</th>\n",
       "      <td>20557.000000</td>\n",
       "      <td>0.384532</td>\n",
       "      <td>0.000000e+00</td>\n",
       "      <td>0.000000e+00</td>\n",
       "      <td>99.000000</td>\n",
       "      <td>38.000000</td>\n",
       "      <td>6.000000</td>\n",
       "      <td>2006.000000</td>\n",
       "      <td>0.000000e+00</td>\n",
       "      <td>0.000000e+00</td>\n",
       "    </tr>\n",
       "    <tr>\n",
       "      <th>75%</th>\n",
       "      <td>75186.000000</td>\n",
       "      <td>0.715393</td>\n",
       "      <td>1.500000e+07</td>\n",
       "      <td>2.414118e+07</td>\n",
       "      <td>111.000000</td>\n",
       "      <td>146.000000</td>\n",
       "      <td>6.600000</td>\n",
       "      <td>2011.000000</td>\n",
       "      <td>2.092507e+07</td>\n",
       "      <td>3.387838e+07</td>\n",
       "    </tr>\n",
       "    <tr>\n",
       "      <th>max</th>\n",
       "      <td>417859.000000</td>\n",
       "      <td>32.985763</td>\n",
       "      <td>4.250000e+08</td>\n",
       "      <td>2.781506e+09</td>\n",
       "      <td>900.000000</td>\n",
       "      <td>9767.000000</td>\n",
       "      <td>9.200000</td>\n",
       "      <td>2015.000000</td>\n",
       "      <td>4.250000e+08</td>\n",
       "      <td>2.827124e+09</td>\n",
       "    </tr>\n",
       "  </tbody>\n",
       "</table>\n",
       "</div>"
      ],
      "text/plain": [
       "                  id    popularity        budget       revenue       runtime  \\\n",
       "count   10842.000000  10842.000000  1.084200e+04  1.084200e+04  10842.000000   \n",
       "mean    65870.675521      0.647461  1.465531e+07  3.991138e+07    102.138443   \n",
       "std     91981.355752      1.001032  3.093971e+07  1.171179e+08     31.294612   \n",
       "min         5.000000      0.000065  0.000000e+00  0.000000e+00      0.000000   \n",
       "25%     10589.250000      0.208210  0.000000e+00  0.000000e+00     90.000000   \n",
       "50%     20557.000000      0.384532  0.000000e+00  0.000000e+00     99.000000   \n",
       "75%     75186.000000      0.715393  1.500000e+07  2.414118e+07    111.000000   \n",
       "max    417859.000000     32.985763  4.250000e+08  2.781506e+09    900.000000   \n",
       "\n",
       "         vote_count  vote_average  release_year    budget_adj   revenue_adj  \n",
       "count  10842.000000  10842.000000  10842.000000  1.084200e+04  1.084200e+04  \n",
       "mean     217.823649      5.974064   2001.314794  1.758712e+07  5.147797e+07  \n",
       "std      576.180993      0.934257     12.813617  3.433437e+07  1.447723e+08  \n",
       "min       10.000000      1.500000   1960.000000  0.000000e+00  0.000000e+00  \n",
       "25%       17.000000      5.400000   1995.000000  0.000000e+00  0.000000e+00  \n",
       "50%       38.000000      6.000000   2006.000000  0.000000e+00  0.000000e+00  \n",
       "75%      146.000000      6.600000   2011.000000  2.092507e+07  3.387838e+07  \n",
       "max     9767.000000      9.200000   2015.000000  4.250000e+08  2.827124e+09  "
      ]
     },
     "execution_count": 11,
     "metadata": {},
     "output_type": "execute_result"
    }
   ],
   "source": [
    "df.describe()"
   ]
  },
  {
   "cell_type": "code",
   "execution_count": 12,
   "id": "08c68094",
   "metadata": {},
   "outputs": [
    {
     "data": {
      "text/plain": [
       "id                 0\n",
       "popularity         0\n",
       "budget             0\n",
       "revenue            0\n",
       "original_title     0\n",
       "director          42\n",
       "runtime            0\n",
       "genres             0\n",
       "release_date       0\n",
       "vote_count         0\n",
       "vote_average       0\n",
       "release_year       0\n",
       "budget_adj         0\n",
       "revenue_adj        0\n",
       "dtype: int64"
      ]
     },
     "execution_count": 12,
     "metadata": {},
     "output_type": "execute_result"
    }
   ],
   "source": [
    "df.isna().sum()"
   ]
  },
  {
   "cell_type": "markdown",
   "id": "9cd1374f",
   "metadata": {},
   "source": [
    "## Are movies still profitable?\n",
    "\n",
    "We will define profit as the difference between revenue and budget using the adjusted values.\n",
    "Before we proceed, we will explore the distribution of the two features using a histgram."
   ]
  },
  {
   "cell_type": "code",
   "execution_count": 13,
   "id": "0aa29c3d",
   "metadata": {},
   "outputs": [
    {
     "data": {
      "text/html": [
       "<div>\n",
       "<style scoped>\n",
       "    .dataframe tbody tr th:only-of-type {\n",
       "        vertical-align: middle;\n",
       "    }\n",
       "\n",
       "    .dataframe tbody tr th {\n",
       "        vertical-align: top;\n",
       "    }\n",
       "\n",
       "    .dataframe thead th {\n",
       "        text-align: right;\n",
       "    }\n",
       "</style>\n",
       "<table border=\"1\" class=\"dataframe\">\n",
       "  <thead>\n",
       "    <tr style=\"text-align: right;\">\n",
       "      <th></th>\n",
       "      <th>id</th>\n",
       "      <th>popularity</th>\n",
       "      <th>budget</th>\n",
       "      <th>revenue</th>\n",
       "      <th>runtime</th>\n",
       "      <th>vote_count</th>\n",
       "      <th>vote_average</th>\n",
       "      <th>release_year</th>\n",
       "      <th>budget_adj</th>\n",
       "      <th>revenue_adj</th>\n",
       "    </tr>\n",
       "  </thead>\n",
       "  <tbody>\n",
       "    <tr>\n",
       "      <th>count</th>\n",
       "      <td>10842.000000</td>\n",
       "      <td>10842.000000</td>\n",
       "      <td>1.084200e+04</td>\n",
       "      <td>1.084200e+04</td>\n",
       "      <td>10842.000000</td>\n",
       "      <td>10842.000000</td>\n",
       "      <td>10842.000000</td>\n",
       "      <td>10842.000000</td>\n",
       "      <td>1.084200e+04</td>\n",
       "      <td>1.084200e+04</td>\n",
       "    </tr>\n",
       "    <tr>\n",
       "      <th>mean</th>\n",
       "      <td>65870.675521</td>\n",
       "      <td>0.647461</td>\n",
       "      <td>1.465531e+07</td>\n",
       "      <td>3.991138e+07</td>\n",
       "      <td>102.138443</td>\n",
       "      <td>217.823649</td>\n",
       "      <td>5.974064</td>\n",
       "      <td>2001.314794</td>\n",
       "      <td>1.758712e+07</td>\n",
       "      <td>5.147797e+07</td>\n",
       "    </tr>\n",
       "    <tr>\n",
       "      <th>std</th>\n",
       "      <td>91981.355752</td>\n",
       "      <td>1.001032</td>\n",
       "      <td>3.093971e+07</td>\n",
       "      <td>1.171179e+08</td>\n",
       "      <td>31.294612</td>\n",
       "      <td>576.180993</td>\n",
       "      <td>0.934257</td>\n",
       "      <td>12.813617</td>\n",
       "      <td>3.433437e+07</td>\n",
       "      <td>1.447723e+08</td>\n",
       "    </tr>\n",
       "    <tr>\n",
       "      <th>min</th>\n",
       "      <td>5.000000</td>\n",
       "      <td>0.000065</td>\n",
       "      <td>0.000000e+00</td>\n",
       "      <td>0.000000e+00</td>\n",
       "      <td>0.000000</td>\n",
       "      <td>10.000000</td>\n",
       "      <td>1.500000</td>\n",
       "      <td>1960.000000</td>\n",
       "      <td>0.000000e+00</td>\n",
       "      <td>0.000000e+00</td>\n",
       "    </tr>\n",
       "    <tr>\n",
       "      <th>25%</th>\n",
       "      <td>10589.250000</td>\n",
       "      <td>0.208210</td>\n",
       "      <td>0.000000e+00</td>\n",
       "      <td>0.000000e+00</td>\n",
       "      <td>90.000000</td>\n",
       "      <td>17.000000</td>\n",
       "      <td>5.400000</td>\n",
       "      <td>1995.000000</td>\n",
       "      <td>0.000000e+00</td>\n",
       "      <td>0.000000e+00</td>\n",
       "    </tr>\n",
       "    <tr>\n",
       "      <th>50%</th>\n",
       "      <td>20557.000000</td>\n",
       "      <td>0.384532</td>\n",
       "      <td>0.000000e+00</td>\n",
       "      <td>0.000000e+00</td>\n",
       "      <td>99.000000</td>\n",
       "      <td>38.000000</td>\n",
       "      <td>6.000000</td>\n",
       "      <td>2006.000000</td>\n",
       "      <td>0.000000e+00</td>\n",
       "      <td>0.000000e+00</td>\n",
       "    </tr>\n",
       "    <tr>\n",
       "      <th>75%</th>\n",
       "      <td>75186.000000</td>\n",
       "      <td>0.715393</td>\n",
       "      <td>1.500000e+07</td>\n",
       "      <td>2.414118e+07</td>\n",
       "      <td>111.000000</td>\n",
       "      <td>146.000000</td>\n",
       "      <td>6.600000</td>\n",
       "      <td>2011.000000</td>\n",
       "      <td>2.092507e+07</td>\n",
       "      <td>3.387838e+07</td>\n",
       "    </tr>\n",
       "    <tr>\n",
       "      <th>max</th>\n",
       "      <td>417859.000000</td>\n",
       "      <td>32.985763</td>\n",
       "      <td>4.250000e+08</td>\n",
       "      <td>2.781506e+09</td>\n",
       "      <td>900.000000</td>\n",
       "      <td>9767.000000</td>\n",
       "      <td>9.200000</td>\n",
       "      <td>2015.000000</td>\n",
       "      <td>4.250000e+08</td>\n",
       "      <td>2.827124e+09</td>\n",
       "    </tr>\n",
       "  </tbody>\n",
       "</table>\n",
       "</div>"
      ],
      "text/plain": [
       "                  id    popularity        budget       revenue       runtime  \\\n",
       "count   10842.000000  10842.000000  1.084200e+04  1.084200e+04  10842.000000   \n",
       "mean    65870.675521      0.647461  1.465531e+07  3.991138e+07    102.138443   \n",
       "std     91981.355752      1.001032  3.093971e+07  1.171179e+08     31.294612   \n",
       "min         5.000000      0.000065  0.000000e+00  0.000000e+00      0.000000   \n",
       "25%     10589.250000      0.208210  0.000000e+00  0.000000e+00     90.000000   \n",
       "50%     20557.000000      0.384532  0.000000e+00  0.000000e+00     99.000000   \n",
       "75%     75186.000000      0.715393  1.500000e+07  2.414118e+07    111.000000   \n",
       "max    417859.000000     32.985763  4.250000e+08  2.781506e+09    900.000000   \n",
       "\n",
       "         vote_count  vote_average  release_year    budget_adj   revenue_adj  \n",
       "count  10842.000000  10842.000000  10842.000000  1.084200e+04  1.084200e+04  \n",
       "mean     217.823649      5.974064   2001.314794  1.758712e+07  5.147797e+07  \n",
       "std      576.180993      0.934257     12.813617  3.433437e+07  1.447723e+08  \n",
       "min       10.000000      1.500000   1960.000000  0.000000e+00  0.000000e+00  \n",
       "25%       17.000000      5.400000   1995.000000  0.000000e+00  0.000000e+00  \n",
       "50%       38.000000      6.000000   2006.000000  0.000000e+00  0.000000e+00  \n",
       "75%      146.000000      6.600000   2011.000000  2.092507e+07  3.387838e+07  \n",
       "max     9767.000000      9.200000   2015.000000  4.250000e+08  2.827124e+09  "
      ]
     },
     "execution_count": 13,
     "metadata": {},
     "output_type": "execute_result"
    }
   ],
   "source": [
    "df.describe()"
   ]
  },
  {
   "cell_type": "code",
   "execution_count": 14,
   "id": "ff6a5b5b",
   "metadata": {},
   "outputs": [
    {
     "data": {
      "text/plain": [
       "Text(0.5, 0, 'Data')"
      ]
     },
     "execution_count": 14,
     "metadata": {},
     "output_type": "execute_result"
    },
    {
     "data": {
      "image/png": "[encoded data removed]",
      "text/plain": [
       "<Figure size 432x288 with 1 Axes>"
      ]
     },
     "metadata": {
      "needs_background": "light"
     },
     "output_type": "display_data"
    }
   ],
   "source": [
    "plt.hist(df[\"budget_adj\"])\n",
    "plt.title('Histogram of Adjusted Budget')\n",
    "plt.ylabel('Counts')\n",
    "plt.xlabel('Data')"
   ]
  },
  {
   "cell_type": "code",
   "execution_count": 15,
   "id": "8281d8b9",
   "metadata": {},
   "outputs": [
    {
     "data": {
      "text/plain": [
       "Text(0.5, 0, 'Data')"
      ]
     },
     "execution_count": 15,
     "metadata": {},
     "output_type": "execute_result"
    },
    {
     "data": {
      "image/png": "[encoded data removed]",
      "text/plain": [
       "<Figure size 432x288 with 1 Axes>"
      ]
     },
     "metadata": {
      "needs_background": "light"
     },
     "output_type": "display_data"
    }
   ],
   "source": [
    "plt.hist(df[\"revenue_adj\"])\n",
    "plt.title('Histogram of Adjusted Revenue')\n",
    "plt.ylabel('Counts')\n",
    "plt.xlabel('Data')"
   ]
  },
  {
   "cell_type": "markdown",
   "id": "a2ab1e34",
   "metadata": {},
   "source": [
    "* There appears to be a lot of values around the zero point which might indicate budget and revenue of zero.\n",
    "* Since, revenue could be zero, we will drop all zero values under budget_adj."
   ]
  },
  {
   "cell_type": "code",
   "execution_count": 16,
   "id": "0806386f",
   "metadata": {},
   "outputs": [
    {
     "data": {
      "text/plain": [
       "5674"
      ]
     },
     "execution_count": 16,
     "metadata": {},
     "output_type": "execute_result"
    }
   ],
   "source": [
    "df.query(\"budget_adj <= 0\")[\"budget_adj\"].count()"
   ]
  },
  {
   "cell_type": "code",
   "execution_count": 17,
   "id": "98a3e6c2",
   "metadata": {},
   "outputs": [
    {
     "data": {
      "text/plain": [
       "5993"
      ]
     },
     "execution_count": 17,
     "metadata": {},
     "output_type": "execute_result"
    }
   ],
   "source": [
    "df.query(\"revenue_adj <= 0\")[\"revenue_adj\"].count()"
   ]
  },
  {
   "cell_type": "code",
   "execution_count": 18,
   "id": "afd92637",
   "metadata": {},
   "outputs": [],
   "source": [
    "df_clean = df.query(\"budget_adj > 0\")"
   ]
  },
  {
   "cell_type": "code",
   "execution_count": 19,
   "id": "beb9d471",
   "metadata": {},
   "outputs": [
    {
     "data": {
      "text/plain": [
       "(5168, 14)"
      ]
     },
     "execution_count": 19,
     "metadata": {},
     "output_type": "execute_result"
    }
   ],
   "source": [
    "df_clean.shape"
   ]
  },
  {
   "cell_type": "markdown",
   "id": "a0b9c9ed",
   "metadata": {},
   "source": [
    "* The new dataset has a significatly low size than the original, however, for the purposes of our analysis, we continue with this new subset.\n",
    "* We will first explore the relationship between the budget and revenue, then evaluate the profit as revenue_adj - budget_adj"
   ]
  },
  {
   "cell_type": "code",
   "execution_count": 20,
   "id": "420d6958",
   "metadata": {},
   "outputs": [
    {
     "data": {
      "image/png": "[encoded data removed]",
      "text/plain": [
       "<Figure size 1080x432 with 1 Axes>"
      ]
     },
     "metadata": {
      "needs_background": "light"
     },
     "output_type": "display_data"
    }
   ],
   "source": [
    "# sctter plot of adjusted revenue and budget\n",
    "\n",
    "plt.figure(figsize = (15, 6))\n",
    "plt.scatter(df_clean[\"budget_adj\"], df_clean[\"revenue_adj\"])\n",
    "plt.title('Adjusted Budget vs Adjusted Revenue')\n",
    "plt.xlabel('budget_adj')\n",
    "plt.ylabel('revenue_adj')\n",
    "plt.show()"
   ]
  },
  {
   "cell_type": "code",
   "execution_count": 21,
   "id": "a8cbd637",
   "metadata": {},
   "outputs": [],
   "source": [
    "import warnings\n",
    "warnings.filterwarnings('ignore') # disable warnings from computation\n",
    "\n",
    "# compute profit from adjusted budjet and revenue\n",
    "\n",
    "df_clean[\"profit\"] = (df_clean[\"revenue_adj\"] - df_clean[\"budget_adj\"])/1000000"
   ]
  },
  {
   "cell_type": "code",
   "execution_count": 22,
   "id": "3a366fdb",
   "metadata": {
    "scrolled": true
   },
   "outputs": [
    {
     "data": {
      "text/plain": [
       "Text(0.5, 0, 'Data')"
      ]
     },
     "execution_count": 22,
     "metadata": {},
     "output_type": "execute_result"
    },
    {
     "data": {
      "image/png": "[encoded data removed]",
      "text/plain": [
       "<Figure size 432x288 with 1 Axes>"
      ]
     },
     "metadata": {
      "needs_background": "light"
     },
     "output_type": "display_data"
    }
   ],
   "source": [
    "# histogram of profit\n",
    "\n",
    "plt.hist(df_clean[\"profit\"])\n",
    "plt.title('Histogram of Computed Profit')\n",
    "plt.ylabel('Counts')\n",
    "plt.xlabel('Data')"
   ]
  },
  {
   "cell_type": "markdown",
   "id": "e86efd3e",
   "metadata": {},
   "source": [
    "* There is a positive correlation between adjusted budget and revenue from the scatter plot. \n",
    "* Profit is computed and scaled into millions.\n",
    "* Profit can be seen to be right skewed with smal negative values that indicate losses.\n",
    "* Thus, we observe that most movies make profit although there are sometimes losses or rather minimal profit"
   ]
  },
  {
   "cell_type": "code",
   "execution_count": 23,
   "id": "f704d71c",
   "metadata": {},
   "outputs": [
    {
     "data": {
      "text/plain": [
       "0.46246130030959753"
      ]
     },
     "execution_count": 23,
     "metadata": {},
     "output_type": "execute_result"
    }
   ],
   "source": [
    "# what proportion of the movies make losses or break even\n",
    "\n",
    "df_clean.query(\"profit <= 0\")[\"profit\"].count() / df_clean.shape[0]"
   ]
  },
  {
   "cell_type": "markdown",
   "id": "f9a059ca",
   "metadata": {},
   "source": [
    "* About 46% of the movies do not make profit\n",
    "* We will now explore further to know whether there is a trend in years of the profit."
   ]
  },
  {
   "cell_type": "code",
   "execution_count": 24,
   "id": "3da22b17",
   "metadata": {},
   "outputs": [
    {
     "data": {
      "text/plain": [
       "release_year\n",
       "1960     87.613834\n",
       "1961    163.619914\n",
       "1962     78.061179\n",
       "1963     66.797239\n",
       "1964    184.787631\n",
       "Name: profit, dtype: float64"
      ]
     },
     "execution_count": 24,
     "metadata": {},
     "output_type": "execute_result"
    }
   ],
   "source": [
    "# group year of release by average profit \n",
    "\n",
    "df_profit_year = df_clean.groupby(\"release_year\")[\"profit\"].mean()\n",
    "df_profit_year.head()"
   ]
  },
  {
   "cell_type": "code",
   "execution_count": 25,
   "id": "be61b4f6",
   "metadata": {
    "scrolled": true
   },
   "outputs": [
    {
     "data": {
      "text/plain": [
       "Text(0.5, 0, 'Release Year')"
      ]
     },
     "execution_count": 25,
     "metadata": {},
     "output_type": "execute_result"
    },
    {
     "data": {
      "image/png": "[encoded data removed]",
      "text/plain": [
       "<Figure size 432x288 with 1 Axes>"
      ]
     },
     "metadata": {
      "needs_background": "light"
     },
     "output_type": "display_data"
    }
   ],
   "source": [
    "# bar chart of year and average profit\n",
    "\n",
    "plt.bar(df_profit_year.index, df_profit_year)\n",
    "plt.title('Barchart of Profit by Release Year')\n",
    "plt.ylabel('Average Profit in millions of dollars')\n",
    "plt.xlabel('Release Year')\n"
   ]
  },
  {
   "cell_type": "markdown",
   "id": "f9642021",
   "metadata": {},
   "source": [
    "* We notice that profits have been rather inconsistent over the year, reaching a peak in the early year of 1960 to 1980\n",
    "* However, profit have remained stable since the 1990's with a few exceptions\n",
    "* We can conclude that movies are still profitable. However the profitability has some what reduced over the year\n",
    "* What has been the most profitable movies?"
   ]
  },
  {
   "cell_type": "markdown",
   "id": "ef8af3d8",
   "metadata": {},
   "source": [
    "## What are the top 10 profitable movies?"
   ]
  },
  {
   "cell_type": "code",
   "execution_count": 26,
   "id": "53118fc4",
   "metadata": {},
   "outputs": [
    {
     "data": {
      "text/html": [
       "<div>\n",
       "<style scoped>\n",
       "    .dataframe tbody tr th:only-of-type {\n",
       "        vertical-align: middle;\n",
       "    }\n",
       "\n",
       "    .dataframe tbody tr th {\n",
       "        vertical-align: top;\n",
       "    }\n",
       "\n",
       "    .dataframe thead th {\n",
       "        text-align: right;\n",
       "    }\n",
       "</style>\n",
       "<table border=\"1\" class=\"dataframe\">\n",
       "  <thead>\n",
       "    <tr style=\"text-align: right;\">\n",
       "      <th></th>\n",
       "      <th>release_year</th>\n",
       "      <th>original_title</th>\n",
       "      <th>genres</th>\n",
       "      <th>profit</th>\n",
       "    </tr>\n",
       "  </thead>\n",
       "  <tbody>\n",
       "    <tr>\n",
       "      <th>1329</th>\n",
       "      <td>1977</td>\n",
       "      <td>Star Wars</td>\n",
       "      <td>Adventure|Action|Science Fiction</td>\n",
       "      <td>2750.136651</td>\n",
       "    </tr>\n",
       "    <tr>\n",
       "      <th>1386</th>\n",
       "      <td>2009</td>\n",
       "      <td>Avatar</td>\n",
       "      <td>Action|Adventure|Fantasy|Science Fiction</td>\n",
       "      <td>2586.236848</td>\n",
       "    </tr>\n",
       "    <tr>\n",
       "      <th>5231</th>\n",
       "      <td>1997</td>\n",
       "      <td>Titanic</td>\n",
       "      <td>Drama|Romance|Thriller</td>\n",
       "      <td>2234.713671</td>\n",
       "    </tr>\n",
       "    <tr>\n",
       "      <th>10594</th>\n",
       "      <td>1973</td>\n",
       "      <td>The Exorcist</td>\n",
       "      <td>Drama|Horror|Thriller</td>\n",
       "      <td>2128.035625</td>\n",
       "    </tr>\n",
       "    <tr>\n",
       "      <th>9806</th>\n",
       "      <td>1975</td>\n",
       "      <td>Jaws</td>\n",
       "      <td>Horror|Thriller|Adventure</td>\n",
       "      <td>1878.643094</td>\n",
       "    </tr>\n",
       "    <tr>\n",
       "      <th>8889</th>\n",
       "      <td>1982</td>\n",
       "      <td>E.T. the Extra-Terrestrial</td>\n",
       "      <td>Science Fiction|Adventure|Family|Fantasy</td>\n",
       "      <td>1767.968064</td>\n",
       "    </tr>\n",
       "    <tr>\n",
       "      <th>3</th>\n",
       "      <td>2015</td>\n",
       "      <td>Star Wars: The Force Awakens</td>\n",
       "      <td>Action|Adventure|Science Fiction|Fantasy</td>\n",
       "      <td>1718.723211</td>\n",
       "    </tr>\n",
       "    <tr>\n",
       "      <th>8094</th>\n",
       "      <td>1995</td>\n",
       "      <td>The Net</td>\n",
       "      <td>Crime|Drama|Mystery|Thriller|Action</td>\n",
       "      <td>1551.568265</td>\n",
       "    </tr>\n",
       "    <tr>\n",
       "      <th>10110</th>\n",
       "      <td>1961</td>\n",
       "      <td>One Hundred and One Dalmatians</td>\n",
       "      <td>Adventure|Animation|Comedy|Family</td>\n",
       "      <td>1545.635295</td>\n",
       "    </tr>\n",
       "    <tr>\n",
       "      <th>7309</th>\n",
       "      <td>1980</td>\n",
       "      <td>The Empire Strikes Back</td>\n",
       "      <td>Adventure|Action|Science Fiction</td>\n",
       "      <td>1376.997526</td>\n",
       "    </tr>\n",
       "  </tbody>\n",
       "</table>\n",
       "</div>"
      ],
      "text/plain": [
       "       release_year                  original_title  \\\n",
       "1329           1977                       Star Wars   \n",
       "1386           2009                          Avatar   \n",
       "5231           1997                         Titanic   \n",
       "10594          1973                    The Exorcist   \n",
       "9806           1975                            Jaws   \n",
       "8889           1982      E.T. the Extra-Terrestrial   \n",
       "3              2015    Star Wars: The Force Awakens   \n",
       "8094           1995                         The Net   \n",
       "10110          1961  One Hundred and One Dalmatians   \n",
       "7309           1980         The Empire Strikes Back   \n",
       "\n",
       "                                         genres       profit  \n",
       "1329           Adventure|Action|Science Fiction  2750.136651  \n",
       "1386   Action|Adventure|Fantasy|Science Fiction  2586.236848  \n",
       "5231                     Drama|Romance|Thriller  2234.713671  \n",
       "10594                     Drama|Horror|Thriller  2128.035625  \n",
       "9806                  Horror|Thriller|Adventure  1878.643094  \n",
       "8889   Science Fiction|Adventure|Family|Fantasy  1767.968064  \n",
       "3      Action|Adventure|Science Fiction|Fantasy  1718.723211  \n",
       "8094        Crime|Drama|Mystery|Thriller|Action  1551.568265  \n",
       "10110         Adventure|Animation|Comedy|Family  1545.635295  \n",
       "7309           Adventure|Action|Science Fiction  1376.997526  "
      ]
     },
     "execution_count": 26,
     "metadata": {},
     "output_type": "execute_result"
    }
   ],
   "source": [
    "# sort data by profit, and select top 10\n",
    "\n",
    "top = df_clean[[\"release_year\",\"original_title\", \"genres\",\"profit\"]].sort_values('profit', ascending=False)[0:10]\n",
    "top"
   ]
  },
  {
   "cell_type": "code",
   "execution_count": 27,
   "id": "2ba74d9f",
   "metadata": {},
   "outputs": [
    {
     "data": {
      "text/plain": [
       "Text(0.5, 0, 'Profit in millions of dollars')"
      ]
     },
     "execution_count": 27,
     "metadata": {},
     "output_type": "execute_result"
    },
    {
     "data": {
      "image/png": "[encoded data removed]",
      "text/plain": [
       "<Figure size 432x288 with 1 Axes>"
      ]
     },
     "metadata": {
      "needs_background": "light"
     },
     "output_type": "display_data"
    }
   ],
   "source": [
    "# bar chart of top 10 profitable movies\n",
    "\n",
    "plt.barh(top[\"original_title\"], top[\"profit\"])\n",
    "plt.title('Top 10 most profitable movies')\n",
    "plt.ylabel('Titles')\n",
    "plt.xlabel('Profit in millions of dollars')"
   ]
  },
  {
   "cell_type": "markdown",
   "id": "fe4d23c8",
   "metadata": {},
   "source": [
    "* We observe that, 6 out of the 10 top profitable movies were release before the 1980's \n",
    "* This confirms our early conclusion of the early movies bieng more profitable than the later and newer movies"
   ]
  },
  {
   "cell_type": "markdown",
   "id": "74975f45",
   "metadata": {},
   "source": [
    "## What are the top 10 profitable movie genres?"
   ]
  },
  {
   "cell_type": "code",
   "execution_count": 28,
   "id": "c6c657aa",
   "metadata": {},
   "outputs": [],
   "source": [
    "# function to split the genre feature and return a new dataframe with genre listed in rows.\n",
    "\n",
    "def col_to_list(df,col):\n",
    "    new_df = df[col].str.split('|')\n",
    "    new_df = new_df.apply(pd.Series)\n",
    "    return new_df    \n",
    "    "
   ]
  },
  {
   "cell_type": "code",
   "execution_count": 29,
   "id": "c8a91432",
   "metadata": {},
   "outputs": [
    {
     "data": {
      "text/html": [
       "<div>\n",
       "<style scoped>\n",
       "    .dataframe tbody tr th:only-of-type {\n",
       "        vertical-align: middle;\n",
       "    }\n",
       "\n",
       "    .dataframe tbody tr th {\n",
       "        vertical-align: top;\n",
       "    }\n",
       "\n",
       "    .dataframe thead th {\n",
       "        text-align: right;\n",
       "    }\n",
       "</style>\n",
       "<table border=\"1\" class=\"dataframe\">\n",
       "  <thead>\n",
       "    <tr style=\"text-align: right;\">\n",
       "      <th></th>\n",
       "      <th>0</th>\n",
       "      <th>1</th>\n",
       "      <th>2</th>\n",
       "      <th>3</th>\n",
       "      <th>4</th>\n",
       "    </tr>\n",
       "  </thead>\n",
       "  <tbody>\n",
       "    <tr>\n",
       "      <th>0</th>\n",
       "      <td>Action</td>\n",
       "      <td>Adventure</td>\n",
       "      <td>Science Fiction</td>\n",
       "      <td>Thriller</td>\n",
       "      <td>NaN</td>\n",
       "    </tr>\n",
       "    <tr>\n",
       "      <th>1</th>\n",
       "      <td>Action</td>\n",
       "      <td>Adventure</td>\n",
       "      <td>Science Fiction</td>\n",
       "      <td>Thriller</td>\n",
       "      <td>NaN</td>\n",
       "    </tr>\n",
       "  </tbody>\n",
       "</table>\n",
       "</div>"
      ],
      "text/plain": [
       "        0          1                2         3    4\n",
       "0  Action  Adventure  Science Fiction  Thriller  NaN\n",
       "1  Action  Adventure  Science Fiction  Thriller  NaN"
      ]
     },
     "execution_count": 29,
     "metadata": {},
     "output_type": "execute_result"
    }
   ],
   "source": [
    "# applying col_to_list function\n",
    "\n",
    "df_genre = col_to_list(df_clean, 'genres')\n",
    "df_genre.head(2)"
   ]
  },
  {
   "cell_type": "code",
   "execution_count": 30,
   "id": "d3312220",
   "metadata": {},
   "outputs": [
    {
     "data": {
      "text/html": [
       "<div>\n",
       "<style scoped>\n",
       "    .dataframe tbody tr th:only-of-type {\n",
       "        vertical-align: middle;\n",
       "    }\n",
       "\n",
       "    .dataframe tbody tr th {\n",
       "        vertical-align: top;\n",
       "    }\n",
       "\n",
       "    .dataframe thead th {\n",
       "        text-align: right;\n",
       "    }\n",
       "</style>\n",
       "<table border=\"1\" class=\"dataframe\">\n",
       "  <thead>\n",
       "    <tr style=\"text-align: right;\">\n",
       "      <th></th>\n",
       "      <th>0</th>\n",
       "      <th>1</th>\n",
       "      <th>2</th>\n",
       "      <th>3</th>\n",
       "      <th>4</th>\n",
       "      <th>id</th>\n",
       "      <th>popularity</th>\n",
       "      <th>budget</th>\n",
       "      <th>revenue</th>\n",
       "      <th>original_title</th>\n",
       "      <th>director</th>\n",
       "      <th>runtime</th>\n",
       "      <th>genres</th>\n",
       "      <th>release_date</th>\n",
       "      <th>vote_count</th>\n",
       "      <th>vote_average</th>\n",
       "      <th>release_year</th>\n",
       "      <th>budget_adj</th>\n",
       "      <th>revenue_adj</th>\n",
       "      <th>profit</th>\n",
       "    </tr>\n",
       "  </thead>\n",
       "  <tbody>\n",
       "    <tr>\n",
       "      <th>0</th>\n",
       "      <td>Action</td>\n",
       "      <td>Adventure</td>\n",
       "      <td>Science Fiction</td>\n",
       "      <td>Thriller</td>\n",
       "      <td>NaN</td>\n",
       "      <td>135397</td>\n",
       "      <td>32.985763</td>\n",
       "      <td>150000000</td>\n",
       "      <td>1513528810</td>\n",
       "      <td>Jurassic World</td>\n",
       "      <td>Colin Trevorrow</td>\n",
       "      <td>124</td>\n",
       "      <td>Action|Adventure|Science Fiction|Thriller</td>\n",
       "      <td>6/9/15</td>\n",
       "      <td>5562</td>\n",
       "      <td>6.5</td>\n",
       "      <td>2015</td>\n",
       "      <td>1.379999e+08</td>\n",
       "      <td>1.392446e+09</td>\n",
       "      <td>1254.445953</td>\n",
       "    </tr>\n",
       "    <tr>\n",
       "      <th>1</th>\n",
       "      <td>Action</td>\n",
       "      <td>Adventure</td>\n",
       "      <td>Science Fiction</td>\n",
       "      <td>Thriller</td>\n",
       "      <td>NaN</td>\n",
       "      <td>76341</td>\n",
       "      <td>28.419936</td>\n",
       "      <td>150000000</td>\n",
       "      <td>378436354</td>\n",
       "      <td>Mad Max: Fury Road</td>\n",
       "      <td>George Miller</td>\n",
       "      <td>120</td>\n",
       "      <td>Action|Adventure|Science Fiction|Thriller</td>\n",
       "      <td>5/13/15</td>\n",
       "      <td>6185</td>\n",
       "      <td>7.1</td>\n",
       "      <td>2015</td>\n",
       "      <td>1.379999e+08</td>\n",
       "      <td>3.481613e+08</td>\n",
       "      <td>210.161353</td>\n",
       "    </tr>\n",
       "  </tbody>\n",
       "</table>\n",
       "</div>"
      ],
      "text/plain": [
       "        0          1                2         3    4      id  popularity  \\\n",
       "0  Action  Adventure  Science Fiction  Thriller  NaN  135397   32.985763   \n",
       "1  Action  Adventure  Science Fiction  Thriller  NaN   76341   28.419936   \n",
       "\n",
       "      budget     revenue      original_title         director  runtime  \\\n",
       "0  150000000  1513528810      Jurassic World  Colin Trevorrow      124   \n",
       "1  150000000   378436354  Mad Max: Fury Road    George Miller      120   \n",
       "\n",
       "                                      genres release_date  vote_count  \\\n",
       "0  Action|Adventure|Science Fiction|Thriller       6/9/15        5562   \n",
       "1  Action|Adventure|Science Fiction|Thriller      5/13/15        6185   \n",
       "\n",
       "   vote_average  release_year    budget_adj   revenue_adj       profit  \n",
       "0           6.5          2015  1.379999e+08  1.392446e+09  1254.445953  \n",
       "1           7.1          2015  1.379999e+08  3.481613e+08   210.161353  "
      ]
     },
     "execution_count": 30,
     "metadata": {},
     "output_type": "execute_result"
    }
   ],
   "source": [
    "# merge df_genre and df_clean tables\n",
    "\n",
    "df_genre = df_genre.merge(df_clean, left_index=True, right_index = True)\n",
    "df_genre.head(2)"
   ]
  },
  {
   "cell_type": "code",
   "execution_count": 31,
   "id": "1ae6e338",
   "metadata": {},
   "outputs": [
    {
     "data": {
      "text/html": [
       "<div>\n",
       "<style scoped>\n",
       "    .dataframe tbody tr th:only-of-type {\n",
       "        vertical-align: middle;\n",
       "    }\n",
       "\n",
       "    .dataframe tbody tr th {\n",
       "        vertical-align: top;\n",
       "    }\n",
       "\n",
       "    .dataframe thead th {\n",
       "        text-align: right;\n",
       "    }\n",
       "</style>\n",
       "<table border=\"1\" class=\"dataframe\">\n",
       "  <thead>\n",
       "    <tr style=\"text-align: right;\">\n",
       "      <th></th>\n",
       "      <th>id</th>\n",
       "      <th>popularity</th>\n",
       "      <th>budget</th>\n",
       "      <th>revenue</th>\n",
       "      <th>original_title</th>\n",
       "      <th>director</th>\n",
       "      <th>runtime</th>\n",
       "      <th>genres</th>\n",
       "      <th>release_date</th>\n",
       "      <th>vote_count</th>\n",
       "      <th>vote_average</th>\n",
       "      <th>release_year</th>\n",
       "      <th>budget_adj</th>\n",
       "      <th>revenue_adj</th>\n",
       "      <th>profit</th>\n",
       "      <th>variable</th>\n",
       "      <th>movie_genre</th>\n",
       "    </tr>\n",
       "  </thead>\n",
       "  <tbody>\n",
       "    <tr>\n",
       "      <th>0</th>\n",
       "      <td>135397</td>\n",
       "      <td>32.985763</td>\n",
       "      <td>150000000</td>\n",
       "      <td>1513528810</td>\n",
       "      <td>Jurassic World</td>\n",
       "      <td>Colin Trevorrow</td>\n",
       "      <td>124</td>\n",
       "      <td>Action|Adventure|Science Fiction|Thriller</td>\n",
       "      <td>6/9/15</td>\n",
       "      <td>5562</td>\n",
       "      <td>6.5</td>\n",
       "      <td>2015</td>\n",
       "      <td>1.379999e+08</td>\n",
       "      <td>1.392446e+09</td>\n",
       "      <td>1254.445953</td>\n",
       "      <td>0</td>\n",
       "      <td>Action</td>\n",
       "    </tr>\n",
       "    <tr>\n",
       "      <th>1</th>\n",
       "      <td>76341</td>\n",
       "      <td>28.419936</td>\n",
       "      <td>150000000</td>\n",
       "      <td>378436354</td>\n",
       "      <td>Mad Max: Fury Road</td>\n",
       "      <td>George Miller</td>\n",
       "      <td>120</td>\n",
       "      <td>Action|Adventure|Science Fiction|Thriller</td>\n",
       "      <td>5/13/15</td>\n",
       "      <td>6185</td>\n",
       "      <td>7.1</td>\n",
       "      <td>2015</td>\n",
       "      <td>1.379999e+08</td>\n",
       "      <td>3.481613e+08</td>\n",
       "      <td>210.161353</td>\n",
       "      <td>0</td>\n",
       "      <td>Action</td>\n",
       "    </tr>\n",
       "  </tbody>\n",
       "</table>\n",
       "</div>"
      ],
      "text/plain": [
       "       id  popularity     budget     revenue      original_title  \\\n",
       "0  135397   32.985763  150000000  1513528810      Jurassic World   \n",
       "1   76341   28.419936  150000000   378436354  Mad Max: Fury Road   \n",
       "\n",
       "          director  runtime                                     genres  \\\n",
       "0  Colin Trevorrow      124  Action|Adventure|Science Fiction|Thriller   \n",
       "1    George Miller      120  Action|Adventure|Science Fiction|Thriller   \n",
       "\n",
       "  release_date  vote_count  vote_average  release_year    budget_adj  \\\n",
       "0       6/9/15        5562           6.5          2015  1.379999e+08   \n",
       "1      5/13/15        6185           7.1          2015  1.379999e+08   \n",
       "\n",
       "    revenue_adj       profit variable movie_genre  \n",
       "0  1.392446e+09  1254.445953        0      Action  \n",
       "1  3.481613e+08   210.161353        0      Action  "
      ]
     },
     "execution_count": 31,
     "metadata": {},
     "output_type": "execute_result"
    }
   ],
   "source": [
    "# unpivot genres from columns into rows\n",
    "\n",
    "df_genre = df_genre.melt(id_vars=['id','popularity','budget','revenue','original_title','director','runtime','genres','release_date','vote_count','vote_average','release_year','budget_adj','revenue_adj','profit'],\n",
    "                         value_name=\"movie_genre\")\n",
    "df_genre.head(2)\n",
    "\n"
   ]
  },
  {
   "cell_type": "code",
   "execution_count": 32,
   "id": "a8453030",
   "metadata": {},
   "outputs": [],
   "source": [
    "# drop  unused columns\n",
    "df_genre.drop(['genres','variable'],axis=1,inplace=True)"
   ]
  },
  {
   "cell_type": "code",
   "execution_count": 33,
   "id": "cfa2794d",
   "metadata": {},
   "outputs": [
    {
     "data": {
      "text/plain": [
       "(25840, 15)"
      ]
     },
     "execution_count": 33,
     "metadata": {},
     "output_type": "execute_result"
    }
   ],
   "source": [
    "# see new size of dataframe\n",
    "\n",
    "df_genre.shape"
   ]
  },
  {
   "cell_type": "code",
   "execution_count": 34,
   "id": "439b3c70",
   "metadata": {},
   "outputs": [
    {
     "data": {
      "text/plain": [
       "(13601, 15)"
      ]
     },
     "execution_count": 34,
     "metadata": {},
     "output_type": "execute_result"
    }
   ],
   "source": [
    "# drop missing values\n",
    "df_genre.isna().sum()\n",
    "df_genre.dropna(how='any', subset=['movie_genre'], inplace=True)\n",
    "df_genre.shape"
   ]
  },
  {
   "cell_type": "code",
   "execution_count": 35,
   "id": "cdee078a",
   "metadata": {},
   "outputs": [
    {
     "data": {
      "text/html": [
       "<div>\n",
       "<style scoped>\n",
       "    .dataframe tbody tr th:only-of-type {\n",
       "        vertical-align: middle;\n",
       "    }\n",
       "\n",
       "    .dataframe tbody tr th {\n",
       "        vertical-align: top;\n",
       "    }\n",
       "\n",
       "    .dataframe thead th {\n",
       "        text-align: right;\n",
       "    }\n",
       "</style>\n",
       "<table border=\"1\" class=\"dataframe\">\n",
       "  <thead>\n",
       "    <tr style=\"text-align: right;\">\n",
       "      <th></th>\n",
       "      <th>id</th>\n",
       "      <th>popularity</th>\n",
       "      <th>budget</th>\n",
       "      <th>revenue</th>\n",
       "      <th>original_title</th>\n",
       "      <th>director</th>\n",
       "      <th>runtime</th>\n",
       "      <th>release_date</th>\n",
       "      <th>vote_count</th>\n",
       "      <th>vote_average</th>\n",
       "      <th>release_year</th>\n",
       "      <th>budget_adj</th>\n",
       "      <th>revenue_adj</th>\n",
       "      <th>profit</th>\n",
       "      <th>movie_genre</th>\n",
       "    </tr>\n",
       "  </thead>\n",
       "  <tbody>\n",
       "    <tr>\n",
       "      <th>482</th>\n",
       "      <td>19913</td>\n",
       "      <td>3.244139</td>\n",
       "      <td>7500000</td>\n",
       "      <td>60722734</td>\n",
       "      <td>(500) Days of Summer</td>\n",
       "      <td>Marc Webb</td>\n",
       "      <td>95</td>\n",
       "      <td>7/17/09</td>\n",
       "      <td>1778</td>\n",
       "      <td>7.3</td>\n",
       "      <td>2009</td>\n",
       "      <td>7.623003e+06</td>\n",
       "      <td>6.171861e+07</td>\n",
       "      <td>54.09561</td>\n",
       "      <td>Comedy</td>\n",
       "    </tr>\n",
       "    <tr>\n",
       "      <th>5650</th>\n",
       "      <td>19913</td>\n",
       "      <td>3.244139</td>\n",
       "      <td>7500000</td>\n",
       "      <td>60722734</td>\n",
       "      <td>(500) Days of Summer</td>\n",
       "      <td>Marc Webb</td>\n",
       "      <td>95</td>\n",
       "      <td>7/17/09</td>\n",
       "      <td>1778</td>\n",
       "      <td>7.3</td>\n",
       "      <td>2009</td>\n",
       "      <td>7.623003e+06</td>\n",
       "      <td>6.171861e+07</td>\n",
       "      <td>54.09561</td>\n",
       "      <td>Drama</td>\n",
       "    </tr>\n",
       "    <tr>\n",
       "      <th>10818</th>\n",
       "      <td>19913</td>\n",
       "      <td>3.244139</td>\n",
       "      <td>7500000</td>\n",
       "      <td>60722734</td>\n",
       "      <td>(500) Days of Summer</td>\n",
       "      <td>Marc Webb</td>\n",
       "      <td>95</td>\n",
       "      <td>7/17/09</td>\n",
       "      <td>1778</td>\n",
       "      <td>7.3</td>\n",
       "      <td>2009</td>\n",
       "      <td>7.623003e+06</td>\n",
       "      <td>6.171861e+07</td>\n",
       "      <td>54.09561</td>\n",
       "      <td>Romance</td>\n",
       "    </tr>\n",
       "    <tr>\n",
       "      <th>6144</th>\n",
       "      <td>4951</td>\n",
       "      <td>1.769152</td>\n",
       "      <td>16000000</td>\n",
       "      <td>53478166</td>\n",
       "      <td>10 Things I Hate About You</td>\n",
       "      <td>Gil Junger</td>\n",
       "      <td>97</td>\n",
       "      <td>3/30/99</td>\n",
       "      <td>947</td>\n",
       "      <td>7.2</td>\n",
       "      <td>1999</td>\n",
       "      <td>2.094485e+07</td>\n",
       "      <td>7.000575e+07</td>\n",
       "      <td>49.06090</td>\n",
       "      <td>Romance</td>\n",
       "    </tr>\n",
       "    <tr>\n",
       "      <th>11312</th>\n",
       "      <td>4951</td>\n",
       "      <td>1.769152</td>\n",
       "      <td>16000000</td>\n",
       "      <td>53478166</td>\n",
       "      <td>10 Things I Hate About You</td>\n",
       "      <td>Gil Junger</td>\n",
       "      <td>97</td>\n",
       "      <td>3/30/99</td>\n",
       "      <td>947</td>\n",
       "      <td>7.2</td>\n",
       "      <td>1999</td>\n",
       "      <td>2.094485e+07</td>\n",
       "      <td>7.000575e+07</td>\n",
       "      <td>49.06090</td>\n",
       "      <td>Drama</td>\n",
       "    </tr>\n",
       "  </tbody>\n",
       "</table>\n",
       "</div>"
      ],
      "text/plain": [
       "          id  popularity    budget   revenue              original_title  \\\n",
       "482    19913    3.244139   7500000  60722734        (500) Days of Summer   \n",
       "5650   19913    3.244139   7500000  60722734        (500) Days of Summer   \n",
       "10818  19913    3.244139   7500000  60722734        (500) Days of Summer   \n",
       "6144    4951    1.769152  16000000  53478166  10 Things I Hate About You   \n",
       "11312   4951    1.769152  16000000  53478166  10 Things I Hate About You   \n",
       "\n",
       "         director  runtime release_date  vote_count  vote_average  \\\n",
       "482     Marc Webb       95      7/17/09        1778           7.3   \n",
       "5650    Marc Webb       95      7/17/09        1778           7.3   \n",
       "10818   Marc Webb       95      7/17/09        1778           7.3   \n",
       "6144   Gil Junger       97      3/30/99         947           7.2   \n",
       "11312  Gil Junger       97      3/30/99         947           7.2   \n",
       "\n",
       "       release_year    budget_adj   revenue_adj    profit movie_genre  \n",
       "482            2009  7.623003e+06  6.171861e+07  54.09561      Comedy  \n",
       "5650           2009  7.623003e+06  6.171861e+07  54.09561       Drama  \n",
       "10818          2009  7.623003e+06  6.171861e+07  54.09561     Romance  \n",
       "6144           1999  2.094485e+07  7.000575e+07  49.06090     Romance  \n",
       "11312          1999  2.094485e+07  7.000575e+07  49.06090       Drama  "
      ]
     },
     "execution_count": 35,
     "metadata": {},
     "output_type": "execute_result"
    }
   ],
   "source": [
    "# see final dataframe\n",
    "\n",
    "df_genre.sort_values(by='original_title').head(5)"
   ]
  },
  {
   "cell_type": "code",
   "execution_count": 36,
   "id": "6c3585b9",
   "metadata": {},
   "outputs": [
    {
     "data": {
      "text/plain": [
       "Drama              2316\n",
       "Comedy             1740\n",
       "Thriller           1641\n",
       "Action             1428\n",
       "Adventure           906\n",
       "Romance             861\n",
       "Crime               823\n",
       "Horror              765\n",
       "Science Fiction     701\n",
       "Family              523\n",
       "Fantasy             508\n",
       "Mystery             440\n",
       "Animation           260\n",
       "History             183\n",
       "Music               169\n",
       "War                 155\n",
       "Western              74\n",
       "Documentary          64\n",
       "Foreign              35\n",
       "TV Movie              9\n",
       "Name: movie_genre, dtype: int64"
      ]
     },
     "execution_count": 36,
     "metadata": {},
     "output_type": "execute_result"
    }
   ],
   "source": [
    "# summary of movie genres counts\n",
    "\n",
    "genre_values = df_genre['movie_genre'].value_counts(ascending=False)\n",
    "genre_values"
   ]
  },
  {
   "cell_type": "code",
   "execution_count": 37,
   "id": "b2fcbed5",
   "metadata": {},
   "outputs": [
    {
     "data": {
      "text/html": [
       "<div>\n",
       "<style scoped>\n",
       "    .dataframe tbody tr th:only-of-type {\n",
       "        vertical-align: middle;\n",
       "    }\n",
       "\n",
       "    .dataframe tbody tr th {\n",
       "        vertical-align: top;\n",
       "    }\n",
       "\n",
       "    .dataframe thead th {\n",
       "        text-align: right;\n",
       "    }\n",
       "</style>\n",
       "<table border=\"1\" class=\"dataframe\">\n",
       "  <thead>\n",
       "    <tr style=\"text-align: right;\">\n",
       "      <th></th>\n",
       "      <th>counts</th>\n",
       "      <th>proportion</th>\n",
       "    </tr>\n",
       "  </thead>\n",
       "  <tbody>\n",
       "    <tr>\n",
       "      <th>Drama</th>\n",
       "      <td>2316</td>\n",
       "      <td>17.03</td>\n",
       "    </tr>\n",
       "    <tr>\n",
       "      <th>Comedy</th>\n",
       "      <td>1740</td>\n",
       "      <td>12.79</td>\n",
       "    </tr>\n",
       "    <tr>\n",
       "      <th>Thriller</th>\n",
       "      <td>1641</td>\n",
       "      <td>12.07</td>\n",
       "    </tr>\n",
       "    <tr>\n",
       "      <th>Action</th>\n",
       "      <td>1428</td>\n",
       "      <td>10.50</td>\n",
       "    </tr>\n",
       "    <tr>\n",
       "      <th>Adventure</th>\n",
       "      <td>906</td>\n",
       "      <td>6.66</td>\n",
       "    </tr>\n",
       "    <tr>\n",
       "      <th>Romance</th>\n",
       "      <td>861</td>\n",
       "      <td>6.33</td>\n",
       "    </tr>\n",
       "    <tr>\n",
       "      <th>Crime</th>\n",
       "      <td>823</td>\n",
       "      <td>6.05</td>\n",
       "    </tr>\n",
       "    <tr>\n",
       "      <th>Horror</th>\n",
       "      <td>765</td>\n",
       "      <td>5.62</td>\n",
       "    </tr>\n",
       "    <tr>\n",
       "      <th>Science Fiction</th>\n",
       "      <td>701</td>\n",
       "      <td>5.15</td>\n",
       "    </tr>\n",
       "    <tr>\n",
       "      <th>Family</th>\n",
       "      <td>523</td>\n",
       "      <td>3.85</td>\n",
       "    </tr>\n",
       "    <tr>\n",
       "      <th>Fantasy</th>\n",
       "      <td>508</td>\n",
       "      <td>3.74</td>\n",
       "    </tr>\n",
       "    <tr>\n",
       "      <th>Mystery</th>\n",
       "      <td>440</td>\n",
       "      <td>3.24</td>\n",
       "    </tr>\n",
       "    <tr>\n",
       "      <th>Animation</th>\n",
       "      <td>260</td>\n",
       "      <td>1.91</td>\n",
       "    </tr>\n",
       "    <tr>\n",
       "      <th>History</th>\n",
       "      <td>183</td>\n",
       "      <td>1.35</td>\n",
       "    </tr>\n",
       "    <tr>\n",
       "      <th>Music</th>\n",
       "      <td>169</td>\n",
       "      <td>1.24</td>\n",
       "    </tr>\n",
       "    <tr>\n",
       "      <th>War</th>\n",
       "      <td>155</td>\n",
       "      <td>1.14</td>\n",
       "    </tr>\n",
       "    <tr>\n",
       "      <th>Western</th>\n",
       "      <td>74</td>\n",
       "      <td>0.54</td>\n",
       "    </tr>\n",
       "    <tr>\n",
       "      <th>Documentary</th>\n",
       "      <td>64</td>\n",
       "      <td>0.47</td>\n",
       "    </tr>\n",
       "    <tr>\n",
       "      <th>Foreign</th>\n",
       "      <td>35</td>\n",
       "      <td>0.26</td>\n",
       "    </tr>\n",
       "    <tr>\n",
       "      <th>TV Movie</th>\n",
       "      <td>9</td>\n",
       "      <td>0.07</td>\n",
       "    </tr>\n",
       "  </tbody>\n",
       "</table>\n",
       "</div>"
      ],
      "text/plain": [
       "                 counts  proportion\n",
       "Drama              2316       17.03\n",
       "Comedy             1740       12.79\n",
       "Thriller           1641       12.07\n",
       "Action             1428       10.50\n",
       "Adventure           906        6.66\n",
       "Romance             861        6.33\n",
       "Crime               823        6.05\n",
       "Horror              765        5.62\n",
       "Science Fiction     701        5.15\n",
       "Family              523        3.85\n",
       "Fantasy             508        3.74\n",
       "Mystery             440        3.24\n",
       "Animation           260        1.91\n",
       "History             183        1.35\n",
       "Music               169        1.24\n",
       "War                 155        1.14\n",
       "Western              74        0.54\n",
       "Documentary          64        0.47\n",
       "Foreign              35        0.26\n",
       "TV Movie              9        0.07"
      ]
     },
     "execution_count": 37,
     "metadata": {},
     "output_type": "execute_result"
    }
   ],
   "source": [
    "# create data frame of movie genre counts and proportion\n",
    "\n",
    "df_g = {'counts' : genre_values}\n",
    "\n",
    "genre_counts = pd.DataFrame(df_g, columns = ['counts'])\n",
    "genre_counts['proportion'] = ((genre_counts['counts'] / genre_counts['counts'].sum()) * 100).round(2)\n",
    "genre_counts"
   ]
  },
  {
   "cell_type": "code",
   "execution_count": 38,
   "id": "719a143c",
   "metadata": {},
   "outputs": [
    {
     "data": {
      "text/plain": [
       "movie_genre\n",
       "Animation          156.926863\n",
       "Adventure          153.037941\n",
       "Family             134.737820\n",
       "Fantasy            127.385585\n",
       "Science Fiction     97.906035\n",
       "Name: profit, dtype: float64"
      ]
     },
     "execution_count": 38,
     "metadata": {},
     "output_type": "execute_result"
    }
   ],
   "source": [
    "# group movie genre by average profit \n",
    "\n",
    "df_profit_genre = df_genre.groupby(\"movie_genre\")[\"profit\"].mean().sort_values(ascending=False)[0:10]\n",
    "df_profit_genre.head()"
   ]
  },
  {
   "cell_type": "code",
   "execution_count": 39,
   "id": "62e7ff75",
   "metadata": {},
   "outputs": [
    {
     "data": {
      "text/plain": [
       "Text(0, 0.5, 'Movie Genre')"
      ]
     },
     "execution_count": 39,
     "metadata": {},
     "output_type": "execute_result"
    },
    {
     "data": {
      "image/png": "[encoded data removed]",
      "text/plain": [
       "<Figure size 432x288 with 1 Axes>"
      ]
     },
     "metadata": {
      "needs_background": "light"
     },
     "output_type": "display_data"
    }
   ],
   "source": [
    "# bar chart of movie genres and average profit\n",
    "\n",
    "plt.barh(df_profit_genre.index, df_profit_genre)\n",
    "plt.title('Barchart of Top 10 Movie Genres by Average Profit')\n",
    "plt.xlabel('Average Profit in millions of dollars')\n",
    "plt.ylabel('Movie Genre')\n"
   ]
  },
  {
   "cell_type": "markdown",
   "id": "7c793c7a",
   "metadata": {},
   "source": [
    "* These rankings are not entirely accurate since is includes multiple double couting for several movies\n",
    "* However, the top genres are closely related to the top 10 most profitable movies except for the Animation which doesn't feature in the movies list\n",
    "* Moreover, it is interesting to find that the Drama genre, although it has the highest proportion in the movie count isn't in the top 10  by profit.\n",
    "* Finally, Animation which is only 1.91% of all the movies makes the highest average profit among the movie genres\n"
   ]
  },
  {
   "cell_type": "markdown",
   "id": "0cd528eb",
   "metadata": {},
   "source": [
    "## How are profits and average votes related?"
   ]
  },
  {
   "cell_type": "code",
   "execution_count": 40,
   "id": "2022e9bc",
   "metadata": {},
   "outputs": [
    {
     "data": {
      "text/plain": [
       "Text(0, 0.5, 'Vote Average')"
      ]
     },
     "execution_count": 40,
     "metadata": {},
     "output_type": "execute_result"
    },
    {
     "data": {
      "image/png": "[encoded data removed]",
      "text/plain": [
       "<Figure size 1080x1080 with 1 Axes>"
      ]
     },
     "metadata": {
      "needs_background": "light"
     },
     "output_type": "display_data"
    }
   ],
   "source": [
    "# scatter plot of profit vs vote average\n",
    "\n",
    "plt.figure(figsize = (15, 15))\n",
    "\n",
    "plt.scatter(df_clean['profit'], df_clean['vote_average'])\n",
    "plt.title('Profit vs Vote Average')\n",
    "plt.xlabel(\"Profit in millions of dollars\")\n",
    "plt.ylabel('Vote Average')"
   ]
  },
  {
   "cell_type": "markdown",
   "id": "f512d3fc",
   "metadata": {},
   "source": [
    "* From the results, we can see that the most profitable movies have relatively high vote average"
   ]
  },
  {
   "cell_type": "markdown",
   "id": "6ab36551",
   "metadata": {},
   "source": [
    "## Conclusions and Limitations\n",
    "\n"
   ]
  },
  {
   "cell_type": "markdown",
   "id": "e2bcc99e",
   "metadata": {},
   "source": [
    "This project analysed the profitability of 10,000 movies collected from The Movie Database (TMDb) by answering the following questions:\n",
    "\n",
    "* Are movies still profitable?\n",
    "* What are the top 10 profitable movies?\n",
    "* How are profits and average votes related?\n",
    "\n",
    "In conclusion, it can be said that, generally movies are still profitable.\n",
    "* However, the level of profitable has rather reduced over time\n",
    "* Modern movies are not as profitable as movies made between the 1960's and 1980's\n",
    "* 60% of the top 10 most profitable movies were release before 1980\n",
    "* The most profitable movie genre is Animation although it is only about 2% of all the movies in the data\n",
    "* There appear to be a slight correlation between profit and movie votes.\n",
    "* The most profitable movies have relatively higher vote average than other movies.\n",
    "\n",
    "The following are some of the limitation of this report:\n",
    "* A significant portion of the data was dropped becasue of missing values\n",
    "* The results on the most profitable movie genres is not entirely accurate due to double counting\n",
    "* Most of the variables were categorical which did not allow for a more vigorous statistical analysis\n",
    "* The movies in the database are limited up to 2015, thus newer movies will cause significant changes in the results presented here."
   ]
  },
  {
   "cell_type": "code",
   "execution_count": null,
   "id": "a810f288",
   "metadata": {},
   "outputs": [],
   "source": []
  }
 ],
 "metadata": {
  "kernelspec": {
   "display_name": "Python 3 (ipykernel)",
   "language": "python",
   "name": "python3"
  },
  "language_info": {
   "codemirror_mode": {
    "name": "ipython",
    "version": 3
   },
   "file_extension": ".py",
   "mimetype": "text/x-python",
   "name": "python",
   "nbconvert_exporter": "python",
   "pygments_lexer": "ipython3",
   "version": "3.9.12"
  }
 },
 "nbformat": 4,
 "nbformat_minor": 5
}
